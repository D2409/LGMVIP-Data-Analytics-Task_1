{
  "nbformat": 4,
  "nbformat_minor": 0,
  "metadata": {
    "colab": {
      "name": "Image_to_Pencil_Sketch_with_Python.ipynb",
      "provenance": []
    },
    "kernelspec": {
      "name": "python3",
      "display_name": "Python 3"
    },
    "language_info": {
      "name": "python"
    }
  },
  "cells": [
    {
      "cell_type": "markdown",
      "source": [
        "**Dhyey Patel**\n",
        "\n",
        "**Image to Pencil Sketch with Python**\n",
        "\n",
        "**DATASET LINK :-** https://thecleverprogrammer.com/2020/09/30/pencil-sketch-with-python/"
      ],
      "metadata": {
        "id": "KnCKRUZmEl2A"
      }
    },
    {
      "cell_type": "markdown",
      "source": [
        "Importing the libraries"
      ],
      "metadata": {
        "id": "ahJ_gWS_BDmN"
      }
    },
    {
      "cell_type": "code",
      "execution_count": 1,
      "metadata": {
        "id": "9CurCKSZKzCD"
      },
      "outputs": [],
      "source": [
        "import cv2\n",
        "from google.colab.patches import cv2_imshow\n",
        "import matplotlib.pyplot as plt"
      ]
    },
    {
      "cell_type": "markdown",
      "source": [
        "Read the image"
      ],
      "metadata": {
        "id": "1scUTbjOBIO0"
      }
    },
    {
      "cell_type": "code",
      "source": [
        "img = cv2.imread(\"cars.jpg\")\n",
        "cv2_imshow(img)"
      ],
      "metadata": {
        "colab": {
          "base_uri": "https://localhost:8080/",
          "height": 316
        },
        "id": "7Wg5XBRcLnO_",
        "outputId": "62664db0-d141-45d2-884b-6a24b454c674"
      },
      "execution_count": 2,
      "outputs": [
        {
          "output_type": "error",
          "ename": "AttributeError",
          "evalue": "ignored",
          "traceback": [
            "\u001b[0;31m---------------------------------------------------------------------------\u001b[0m",
            "\u001b[0;31mAttributeError\u001b[0m                            Traceback (most recent call last)",
            "\u001b[0;32m<ipython-input-2-450269ce628d>\u001b[0m in \u001b[0;36m<module>\u001b[0;34m()\u001b[0m\n\u001b[1;32m      1\u001b[0m \u001b[0mimg\u001b[0m \u001b[0;34m=\u001b[0m \u001b[0mcv2\u001b[0m\u001b[0;34m.\u001b[0m\u001b[0mimread\u001b[0m\u001b[0;34m(\u001b[0m\u001b[0;34m\"cars.jpg\"\u001b[0m\u001b[0;34m)\u001b[0m\u001b[0;34m\u001b[0m\u001b[0;34m\u001b[0m\u001b[0m\n\u001b[0;32m----> 2\u001b[0;31m \u001b[0mcv2_imshow\u001b[0m\u001b[0;34m(\u001b[0m\u001b[0mimg\u001b[0m\u001b[0;34m)\u001b[0m\u001b[0;34m\u001b[0m\u001b[0;34m\u001b[0m\u001b[0m\n\u001b[0m",
            "\u001b[0;32m/usr/local/lib/python3.7/dist-packages/google/colab/patches/__init__.py\u001b[0m in \u001b[0;36mcv2_imshow\u001b[0;34m(a)\u001b[0m\n\u001b[1;32m     20\u001b[0m       \u001b[0mimage\u001b[0m\u001b[0;34m.\u001b[0m\u001b[0;34m\u001b[0m\u001b[0;34m\u001b[0m\u001b[0m\n\u001b[1;32m     21\u001b[0m   \"\"\"\n\u001b[0;32m---> 22\u001b[0;31m   \u001b[0ma\u001b[0m \u001b[0;34m=\u001b[0m \u001b[0ma\u001b[0m\u001b[0;34m.\u001b[0m\u001b[0mclip\u001b[0m\u001b[0;34m(\u001b[0m\u001b[0;36m0\u001b[0m\u001b[0;34m,\u001b[0m \u001b[0;36m255\u001b[0m\u001b[0;34m)\u001b[0m\u001b[0;34m.\u001b[0m\u001b[0mastype\u001b[0m\u001b[0;34m(\u001b[0m\u001b[0;34m'uint8'\u001b[0m\u001b[0;34m)\u001b[0m\u001b[0;34m\u001b[0m\u001b[0;34m\u001b[0m\u001b[0m\n\u001b[0m\u001b[1;32m     23\u001b[0m   \u001b[0;31m# cv2 stores colors as BGR; convert to RGB\u001b[0m\u001b[0;34m\u001b[0m\u001b[0;34m\u001b[0m\u001b[0;34m\u001b[0m\u001b[0m\n\u001b[1;32m     24\u001b[0m   \u001b[0;32mif\u001b[0m \u001b[0ma\u001b[0m\u001b[0;34m.\u001b[0m\u001b[0mndim\u001b[0m \u001b[0;34m==\u001b[0m \u001b[0;36m3\u001b[0m\u001b[0;34m:\u001b[0m\u001b[0;34m\u001b[0m\u001b[0;34m\u001b[0m\u001b[0m\n",
            "\u001b[0;31mAttributeError\u001b[0m: 'NoneType' object has no attribute 'clip'"
          ]
        }
      ]
    },
    {
      "cell_type": "markdown",
      "source": [
        "Converting the original image to greyscale"
      ],
      "metadata": {
        "id": "laWMatT8BSnu"
      }
    },
    {
      "cell_type": "code",
      "source": [
        "gray_scale_image = cv2.cvtColor(img, cv2.COLOR_BGR2GRAY)\n",
        "cv2_imshow(gray_scale_image)"
      ],
      "metadata": {
        "id": "oXYIQ6o7Mh5I"
      },
      "execution_count": null,
      "outputs": []
    },
    {
      "cell_type": "markdown",
      "source": [
        "Invert the new grayscale image"
      ],
      "metadata": {
        "id": "15fKDLvsBaN9"
      }
    },
    {
      "cell_type": "code",
      "source": [
        "inverted_img = cv2.bitwise_not(gray_scale_image)\n",
        "cv2_imshow(inverted_img)"
      ],
      "metadata": {
        "id": "dRJ1OAFwMpyv"
      },
      "execution_count": null,
      "outputs": []
    },
    {
      "cell_type": "markdown",
      "source": [
        "Blur the image by using the Gaussian Function"
      ],
      "metadata": {
        "id": "F4V_ZACkBufF"
      }
    },
    {
      "cell_type": "code",
      "source": [
        "img_smoothing = cv2.GaussianBlur(inverted_img, (21, 21), sigmaX=0, sigmaY=0)\n",
        "cv2_imshow(img_smoothing)"
      ],
      "metadata": {
        "id": "c15eLb8UMsTv"
      },
      "execution_count": null,
      "outputs": []
    },
    {
      "cell_type": "markdown",
      "source": [
        "Invert the blurred image"
      ],
      "metadata": {
        "id": "tddGxyj8B4CE"
      }
    },
    {
      "cell_type": "code",
      "source": [
        "def pencil_sketch(x, y):\n",
        "  return cv2.divide(x, 255 - y, scale=256)"
      ],
      "metadata": {
        "id": "bTyi1IXCMvb3"
      },
      "execution_count": null,
      "outputs": []
    },
    {
      "cell_type": "code",
      "source": [
        "pencil_sketch = pencil_sketch(gray_scale_image, img_smoothing)\n",
        "cv2_imshow(pencil_sketch)"
      ],
      "metadata": {
        "id": "RJoOcV71Mx3-"
      },
      "execution_count": null,
      "outputs": []
    },
    {
      "cell_type": "markdown",
      "source": [
        "Comparing the Real image and the pencil sketch"
      ],
      "metadata": {
        "id": "XFhzBtyUCACs"
      }
    },
    {
      "cell_type": "code",
      "source": [
        "cv2_imshow(img)\n",
        "cv2_imshow(pencil_sketch)"
      ],
      "metadata": {
        "id": "A3cPwHfDM1q3"
      },
      "execution_count": null,
      "outputs": []
    }
  ]
}